{
 "cells": [
  {
   "cell_type": "code",
   "execution_count": null,
   "metadata": {},
   "outputs": [],
   "source": [
    "#ELECTION : \n",
    "#candidates detials : Name, Votes "
   ]
  },
  {
   "cell_type": "code",
   "execution_count": 1,
   "metadata": {},
   "outputs": [
    {
     "name": "stdout",
     "output_type": "stream",
     "text": [
      "-------------------------\n",
      "Enter the Name and the votes of each candidate\n",
      "The candidates names:\n",
      "['Anura', 'Sajith', 'Ranil']\n",
      "The candidates votes:\n",
      "[5634915, 4363035, 2299767]\n",
      "Valid votes count12297717\n",
      "The percentages:\n",
      "[0.45820821864741235, 0.35478414408137704, 0.18700763727121059]\n",
      "Winner name is Anura\n",
      "Percentage :0.45820821864741235\n",
      "But, YOu need to have a second count for second vote\n"
     ]
    }
   ],
   "source": [
    "no_of_candidates=int(input(\"Enter the no of candidates\")) #chandayata idiripath unu chanda apekshakayan sankyawa\n",
    "if no_of_candidates <1:\n",
    "    print(\"YOu have entered a invalid Number.\")\n",
    "    print(\"Try again\")\n",
    "else:\n",
    "    candidate_name=[] #apekshakayange naamayan\n",
    "    candidate_vote=[] #apekshakayange chanda pramanaya\n",
    "    print(\"-------------------------\")\n",
    "    print(\"Enter the Name and the votes of each candidate\")\n",
    "    for i in range(no_of_candidates):\n",
    "        candidate_name.append(input(\"Enter the name of candidate no \"+str(i+1)))\n",
    "        candidate_vote.append(int(input(\"Enter the votes of candidate no \"+str(i+1))))\n",
    "\n",
    "    print(\"The candidates names:\")\n",
    "    print(candidate_name)\n",
    "    print(\"The candidates votes:\")\n",
    "    print(candidate_vote)\n",
    "\n",
    "    #percentage Calculation\n",
    "    total_of_votes=sum(candidate_vote) #sum --> list ekaka athi siyaluma agayange ekathuwa laba ganeema \n",
    "    print(\"Valid votes count\"+str(total_of_votes))\n",
    "\n",
    "    list_percentage=[]\n",
    "    for i in candidate_vote:\n",
    "        list_percentage.append(i/total_of_votes)\n",
    "    print(\"The percentages:\")\n",
    "    print(list_percentage)\n",
    "\n",
    "\n",
    "    #Winner calculation\n",
    "    max_percentage=0.0\n",
    "    winner_name=\"\"\n",
    "    for i in range(len(list_percentage)):\n",
    "        if max_percentage<list_percentage[i]:\n",
    "            max_percentage=list_percentage[i]\n",
    "            winner_name=candidate_name[i]   \n",
    "    \n",
    "    print(\"Winner name is \"+winner_name)\n",
    "    print(\"Percentage :\"+str(max_percentage))\n",
    "\n",
    "    #Verify the second count\n",
    "    if max_percentage <0.5:\n",
    "        print(\"But, YOu need to have a second count for second vote\")\n",
    "\n"
   ]
  }
 ],
 "metadata": {
  "kernelspec": {
   "display_name": "llm",
   "language": "python",
   "name": "python3"
  },
  "language_info": {
   "codemirror_mode": {
    "name": "ipython",
    "version": 3
   },
   "file_extension": ".py",
   "mimetype": "text/x-python",
   "name": "python",
   "nbconvert_exporter": "python",
   "pygments_lexer": "ipython3",
   "version": "3.11.5"
  }
 },
 "nbformat": 4,
 "nbformat_minor": 2
}
